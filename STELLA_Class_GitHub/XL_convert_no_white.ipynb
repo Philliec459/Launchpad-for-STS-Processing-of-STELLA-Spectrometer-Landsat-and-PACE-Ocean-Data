{
 "cells": [
  {
   "cell_type": "markdown",
   "id": "10ac69d9-1160-4970-9de4-4580d179c224",
   "metadata": {},
   "source": [
    "# Conversion Code to write STELLA data and Plots to Excel in easy to read formats.\n",
    "---\n",
    "\n",
    "## Read in STELLA-Q2 that has been converted to an Excel file:\n",
    "---"
   ]
  },
  {
   "cell_type": "code",
   "execution_count": 1,
   "id": "43c1cdfd-f913-40aa-8cd3-56bcbe4be18d",
   "metadata": {},
   "outputs": [
    {
     "name": "stdout",
     "output_type": "stream",
     "text": [
      "Requirement already satisfied: xlsxwriter in /Users/craig/anaconda3/lib/python3.11/site-packages (3.1.9)\n"
     ]
    }
   ],
   "source": [
    "!pip install xlsxwriter"
   ]
  },
  {
   "cell_type": "markdown",
   "id": "53552989-2a5b-4a04-8ab4-fc9c67869fa6",
   "metadata": {},
   "source": [
    "## Python libraries:"
   ]
  },
  {
   "cell_type": "code",
   "execution_count": 2,
   "id": "badb9e7d-6291-45a3-ad2a-6242cd9703d0",
   "metadata": {
    "tags": []
   },
   "outputs": [],
   "source": [
    "import pandas as pd\n",
    "import xlsxwriter\n",
    "\n"
   ]
  },
  {
   "cell_type": "markdown",
   "id": "0bdac235-481c-4b79-9140-496f9b642af5",
   "metadata": {},
   "source": [
    "## Path to data and output .xlsx files:"
   ]
  },
  {
   "cell_type": "code",
   "execution_count": 3,
   "id": "476f37a7-c7aa-4ee3-8be7-e80abd31762d",
   "metadata": {},
   "outputs": [],
   "source": [
    "# Relative Path for STELLA Raw Excel files\n",
    "data_csv_xlsx_path    = r'data.xlsx'\n",
    "\n",
    "# path and Name of Output Excel File\n",
    "output_path = 'data_output.xlsx'"
   ]
  },
  {
   "cell_type": "markdown",
   "id": "f8b35c14-f74b-46b5-a424-45060748018c",
   "metadata": {},
   "source": [
    "## 1) Write Raw and White Card Irradiance data to **1_filtered_data.xlsx** with easy to read columns:\n",
    "---"
   ]
  },
  {
   "cell_type": "code",
   "execution_count": 4,
   "id": "d275b160-d6fe-4ae8-8502-75cb4569efa3",
   "metadata": {
    "tags": []
   },
   "outputs": [],
   "source": [
    "# Read the Excel file\n",
    "df1 = pd.read_excel(data_csv_xlsx_path,index_col=False)\n",
    "\n",
    "\n",
    "# Remove leading/trailing whitespaces in column names\n",
    "df1.columns = df1.columns.str.strip()\n",
    "\n",
    "# Find the column containing 'timestamp' in its name\n",
    "timestamp_column_1 = [col for col in df1.columns if 'timestamp' in col.lower()][0]\n",
    "\n",
    "# Extract wavelength values from column names and add 'nm'\n",
    "new_column_headings_1 = [col.split('_')[1] + 'nm' if 'nm' not in col.split('_')[1] else col.split('_')[1] for col in df1.columns if 'irradiance_' in col and '_irradiance_uW_per_cm_squared' in col]\n",
    "\n",
    "# Filter the columns based on your criteria\n",
    "filtered_columns_1 = ['Test', 'batch', timestamp_column_1] + [col for col in df1.columns if 'irradiance_' in col and '_irradiance_uW_per_cm_squared' in col]\n",
    "\n",
    "# Subset the DataFrame with the filtered columns\n",
    "filtered_data_1 = df1[filtered_columns_1]\n",
    "\n",
    "# Rename the columns\n",
    "filtered_data_1.columns = ['Test', 'batch', timestamp_column_1] + new_column_headings_1\n",
    "\n",
    "# Write the filtered data to a new Excel file\n",
    "with pd.ExcelWriter(output_path) as writer:\n",
    "    # Write the filtered data to the 'Raw' tab\n",
    "    df1.to_excel(writer, sheet_name='Original Data', index=False)\n",
    "\n",
    "    # Write the filtered data to the 'Raw' tab\n",
    "    filtered_data_1.to_excel(writer, sheet_name='Raw Filtered', index=False)\n",
    "   \n",
    "    workbook = writer.book\n",
    "    \n",
    "    df_raw = filtered_data_1\n",
    "    \n",
    "    \n",
    "     # Add a new worksheet for the Raw data plots\n",
    "    chart_worksheet_raw = workbook.add_worksheet('Raw Plots')\n",
    "\n",
    "    # Extract wavelengths and time stamps for Raw data\n",
    "    wavelengths_raw = [col.split('nm')[0] for col in df_raw.columns if 'nm' in col]\n",
    "    timestamps_raw = df_raw['timestamp_iso8601']\n",
    "\n",
    "    # Write the wavelengths to the worksheet\n",
    "    chart_worksheet_raw.write_row('A1', ['Timestamp'] + wavelengths_raw)\n",
    "\n",
    "    # Write the timestamps and irradiance values to the worksheet\n",
    "    for i, ts in enumerate(timestamps_raw, start=1):\n",
    "        chart_worksheet_raw.write(i, 0, ts)\n",
    "        chart_worksheet_raw.write_row(i, 1, df_raw.iloc[i - 1][[col + 'nm' for col in wavelengths_raw]])\n",
    "\n",
    "    # Create a line chart for all rows in Raw data\n",
    "    chart_raw = workbook.add_chart({'type': 'line'})\n",
    "    for i in range(len(timestamps_raw)):\n",
    "        chart_raw.add_series({\n",
    "            'name': f'Row {i + 1}',\n",
    "            'categories': ['Raw Plots', 1, 0, len(timestamps_raw), 0],\n",
    "            'values': ['Raw Plots', 1 + i, 1, 1 + i, len(wavelengths_raw)],\n",
    "        })\n",
    "    chart_raw.set_x_axis({'name': 'Timestamp'})\n",
    "    chart_raw.set_y_axis({'name': 'Irradiance'})\n",
    "    chart_raw.set_title({'name': 'Raw Data Wavelenght Plot'})\n",
    "    chart_worksheet_raw.insert_chart('E1', chart_raw)\n",
    "   \n",
    "    \n",
    "    \n",
    "    "
   ]
  },
  {
   "cell_type": "code",
   "execution_count": null,
   "id": "68129e95-2a35-4890-9eff-a7ad8fb57779",
   "metadata": {},
   "outputs": [],
   "source": []
  }
 ],
 "metadata": {
  "kernelspec": {
   "display_name": "Python 3 (ipykernel)",
   "language": "python",
   "name": "python3"
  },
  "language_info": {
   "codemirror_mode": {
    "name": "ipython",
    "version": 3
   },
   "file_extension": ".py",
   "mimetype": "text/x-python",
   "name": "python",
   "nbconvert_exporter": "python",
   "pygments_lexer": "ipython3",
   "version": "3.11.6"
  }
 },
 "nbformat": 4,
 "nbformat_minor": 5
}
